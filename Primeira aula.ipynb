{
  "cells": [
    {
      "cell_type": "code",
      "execution_count": 1,
      "metadata": {
        "id": "lDg7IgE2TQfp"
      },
      "outputs": [],
      "source": [
        "import pandas as pd\n"
      ]
    },
    {
      "cell_type": "code",
      "execution_count": 2,
      "metadata": {
        "colab": {
          "base_uri": "https://localhost:8080/",
          "height": 423
        },
        "id": "9pd0_tDETyZl",
        "outputId": "91ff646d-22a7-4239-e040-1fe7eda947ec"
      },
      "outputs": [
        {
          "data": {
            "text/html": [
              "<div>\n",
              "<style scoped>\n",
              "    .dataframe tbody tr th:only-of-type {\n",
              "        vertical-align: middle;\n",
              "    }\n",
              "\n",
              "    .dataframe tbody tr th {\n",
              "        vertical-align: top;\n",
              "    }\n",
              "\n",
              "    .dataframe thead th {\n",
              "        text-align: right;\n",
              "    }\n",
              "</style>\n",
              "<table border=\"1\" class=\"dataframe\">\n",
              "  <thead>\n",
              "    <tr style=\"text-align: right;\">\n",
              "      <th></th>\n",
              "      <th>userId</th>\n",
              "      <th>movieId</th>\n",
              "      <th>rating</th>\n",
              "      <th>timestamp</th>\n",
              "    </tr>\n",
              "  </thead>\n",
              "  <tbody>\n",
              "    <tr>\n",
              "      <th>0</th>\n",
              "      <td>1</td>\n",
              "      <td>1</td>\n",
              "      <td>4.0</td>\n",
              "      <td>964982703</td>\n",
              "    </tr>\n",
              "    <tr>\n",
              "      <th>1</th>\n",
              "      <td>1</td>\n",
              "      <td>3</td>\n",
              "      <td>4.0</td>\n",
              "      <td>964981247</td>\n",
              "    </tr>\n",
              "    <tr>\n",
              "      <th>2</th>\n",
              "      <td>1</td>\n",
              "      <td>6</td>\n",
              "      <td>4.0</td>\n",
              "      <td>964982224</td>\n",
              "    </tr>\n",
              "    <tr>\n",
              "      <th>3</th>\n",
              "      <td>1</td>\n",
              "      <td>47</td>\n",
              "      <td>5.0</td>\n",
              "      <td>964983815</td>\n",
              "    </tr>\n",
              "    <tr>\n",
              "      <th>4</th>\n",
              "      <td>1</td>\n",
              "      <td>50</td>\n",
              "      <td>5.0</td>\n",
              "      <td>964982931</td>\n",
              "    </tr>\n",
              "    <tr>\n",
              "      <th>...</th>\n",
              "      <td>...</td>\n",
              "      <td>...</td>\n",
              "      <td>...</td>\n",
              "      <td>...</td>\n",
              "    </tr>\n",
              "    <tr>\n",
              "      <th>100831</th>\n",
              "      <td>610</td>\n",
              "      <td>166534</td>\n",
              "      <td>4.0</td>\n",
              "      <td>1493848402</td>\n",
              "    </tr>\n",
              "    <tr>\n",
              "      <th>100832</th>\n",
              "      <td>610</td>\n",
              "      <td>168248</td>\n",
              "      <td>5.0</td>\n",
              "      <td>1493850091</td>\n",
              "    </tr>\n",
              "    <tr>\n",
              "      <th>100833</th>\n",
              "      <td>610</td>\n",
              "      <td>168250</td>\n",
              "      <td>5.0</td>\n",
              "      <td>1494273047</td>\n",
              "    </tr>\n",
              "    <tr>\n",
              "      <th>100834</th>\n",
              "      <td>610</td>\n",
              "      <td>168252</td>\n",
              "      <td>5.0</td>\n",
              "      <td>1493846352</td>\n",
              "    </tr>\n",
              "    <tr>\n",
              "      <th>100835</th>\n",
              "      <td>610</td>\n",
              "      <td>170875</td>\n",
              "      <td>3.0</td>\n",
              "      <td>1493846415</td>\n",
              "    </tr>\n",
              "  </tbody>\n",
              "</table>\n",
              "<p>100836 rows × 4 columns</p>\n",
              "</div>"
            ],
            "text/plain": [
              "        userId  movieId  rating   timestamp\n",
              "0            1        1     4.0   964982703\n",
              "1            1        3     4.0   964981247\n",
              "2            1        6     4.0   964982224\n",
              "3            1       47     5.0   964983815\n",
              "4            1       50     5.0   964982931\n",
              "...        ...      ...     ...         ...\n",
              "100831     610   166534     4.0  1493848402\n",
              "100832     610   168248     5.0  1493850091\n",
              "100833     610   168250     5.0  1494273047\n",
              "100834     610   168252     5.0  1493846352\n",
              "100835     610   170875     3.0  1493846415\n",
              "\n",
              "[100836 rows x 4 columns]"
            ]
          },
          "execution_count": 2,
          "metadata": {},
          "output_type": "execute_result"
        }
      ],
      "source": [
        "notas = pd.read_csv(\"https://raw.githubusercontent.com/alura-cursos/data-science-analise-exploratoria/main/Aula_0/ml-latest-small/ratings.csv\")\n",
        "notas"
      ]
    },
    {
      "cell_type": "code",
      "execution_count": null,
      "metadata": {
        "colab": {
          "base_uri": "https://localhost:8080/"
        },
        "id": "mZs1y175T7Sd",
        "outputId": "3955416c-c42f-49a8-a776-cb25759c0c1b"
      },
      "outputs": [],
      "source": [
        "notas.shape"
      ]
    },
    {
      "cell_type": "code",
      "execution_count": null,
      "metadata": {
        "colab": {
          "base_uri": "https://localhost:8080/",
          "height": 206
        },
        "id": "g4x_OXD0UHL9",
        "outputId": "2e0d8bc3-f267-43f7-e7b4-83539d9d478a"
      },
      "outputs": [],
      "source": [
        "notas.columns = [\"usuarioId\", \"filmeId\", \"nota\", \"momento\"]\n",
        "notas.head()"
      ]
    },
    {
      "cell_type": "code",
      "execution_count": null,
      "metadata": {
        "colab": {
          "base_uri": "https://localhost:8080/"
        },
        "id": "kyw78eGzUQ5r",
        "outputId": "f5d833fe-699f-44ef-f34d-b7c6f5117555"
      },
      "outputs": [],
      "source": [
        "notas[\"nota\"].unique()"
      ]
    },
    {
      "cell_type": "code",
      "execution_count": null,
      "metadata": {
        "colab": {
          "base_uri": "https://localhost:8080/"
        },
        "id": "pwOnsMNfUkqD",
        "outputId": "f89d5175-a862-4ebb-a3ca-5dbe58fd42a3"
      },
      "outputs": [],
      "source": [
        "notas[\"nota\"].value_counts()"
      ]
    },
    {
      "cell_type": "code",
      "execution_count": null,
      "metadata": {
        "colab": {
          "base_uri": "https://localhost:8080/"
        },
        "id": "Z1xBc4UIVIM2",
        "outputId": "694b4796-aafc-4d9e-b4fd-6a59c5cee7fb"
      },
      "outputs": [],
      "source": [
        "notas[\"nota\"].mean()"
      ]
    },
    {
      "cell_type": "code",
      "execution_count": null,
      "metadata": {
        "colab": {
          "base_uri": "https://localhost:8080/",
          "height": 447
        },
        "id": "2CHj7Ut1VfZu",
        "outputId": "59cbc2e8-6989-46ae-ff8e-2780fa8a9be6"
      },
      "outputs": [],
      "source": [
        "notas[\"nota\"].plot(kind='hist')"
      ]
    },
    {
      "cell_type": "code",
      "execution_count": null,
      "metadata": {
        "colab": {
          "base_uri": "https://localhost:8080/"
        },
        "id": "FLsIkVHzZmOl",
        "outputId": "8e8a30b2-8dac-4979-b4df-eb496f2efbe0"
      },
      "outputs": [],
      "source": [
        "notas[\"nota\"].median()"
      ]
    },
    {
      "cell_type": "code",
      "execution_count": null,
      "metadata": {
        "colab": {
          "base_uri": "https://localhost:8080/"
        },
        "id": "dipH9Y6nZr56",
        "outputId": "9645e10c-20fa-46aa-8401-87f7bf65131e"
      },
      "outputs": [],
      "source": [
        "mediana = notas[\"nota\"].median()\n",
        "media = notas[\"nota\"].mean()\n",
        "print(f\"Mediana é {mediana}\")\n",
        "print(f\"Média é {media}\")"
      ]
    },
    {
      "cell_type": "code",
      "execution_count": null,
      "metadata": {
        "colab": {
          "base_uri": "https://localhost:8080/"
        },
        "id": "kAU4oVzMZ3QS",
        "outputId": "4d621b87-24e1-4bb7-93cb-e90d5de40804"
      },
      "outputs": [],
      "source": [
        "notas[\"nota\"].describe()"
      ]
    },
    {
      "cell_type": "code",
      "execution_count": null,
      "metadata": {
        "colab": {
          "base_uri": "https://localhost:8080/",
          "height": 428
        },
        "id": "jpg1zeNBaAHB",
        "outputId": "8d5d4ced-37a5-49d2-e19e-8c79badafb1d"
      },
      "outputs": [],
      "source": [
        "import seaborn as sns\n",
        "\n",
        "sns.boxplot(notas[\"nota\"])"
      ]
    },
    {
      "cell_type": "markdown",
      "metadata": {
        "id": "CFmkd01scAlg"
      },
      "source": [
        "# Explorando os filmes"
      ]
    },
    {
      "cell_type": "code",
      "execution_count": null,
      "metadata": {
        "colab": {
          "base_uri": "https://localhost:8080/",
          "height": 206
        },
        "id": "5nxMZW_VaZ03",
        "outputId": "c27147da-314b-4700-990e-298ebd8648be"
      },
      "outputs": [],
      "source": [
        "filmes = pd.read_csv(\"https://raw.githubusercontent.com/alura-cursos/data-science-analise-exploratoria/main/Aula_0/ml-latest-small/movies.csv\")\n",
        "filmes.columns = [\"filmeId\", \"titulo\", \"generos\"]\n",
        "filmes.head()"
      ]
    },
    {
      "cell_type": "code",
      "execution_count": null,
      "metadata": {
        "colab": {
          "base_uri": "https://localhost:8080/",
          "height": 206
        },
        "id": "iGN6Kr1nfb5Y",
        "outputId": "acfe7e02-7363-4d77-dbe8-a26157f11fb0"
      },
      "outputs": [],
      "source": [
        "notas.head()"
      ]
    },
    {
      "cell_type": "code",
      "execution_count": null,
      "metadata": {
        "colab": {
          "base_uri": "https://localhost:8080/"
        },
        "id": "krtCgMa_fmkY",
        "outputId": "fbaa56db-7804-4836-9d55-bcf671ae0bb0"
      },
      "outputs": [],
      "source": [
        "notas.query(\"filmeId==1\")[\"nota\"].mean()"
      ]
    },
    {
      "cell_type": "code",
      "execution_count": null,
      "metadata": {
        "colab": {
          "base_uri": "https://localhost:8080/"
        },
        "id": "EFU-1Klwfzum",
        "outputId": "e4bbf42b-f723-433a-d870-13a96ad9ca63"
      },
      "outputs": [],
      "source": [
        "notas.query(\"filmeId==2\")[\"nota\"].mean()"
      ]
    },
    {
      "cell_type": "code",
      "execution_count": null,
      "metadata": {
        "colab": {
          "base_uri": "https://localhost:8080/"
        },
        "id": "7JPxscLXgKgG",
        "outputId": "50ed4fe0-f53d-4daa-cafa-812fd92cd969"
      },
      "outputs": [],
      "source": [
        "medias_por_filme = notas.groupby(\"filmeId\")[\"nota\"].mean()\n",
        "medias_por_filme.head()"
      ]
    },
    {
      "cell_type": "code",
      "execution_count": null,
      "metadata": {
        "colab": {
          "base_uri": "https://localhost:8080/",
          "height": 447
        },
        "id": "VRRdc5yrga9W",
        "outputId": "202ef668-56c3-4ad4-b12c-ff3235e52460"
      },
      "outputs": [],
      "source": [
        "medias_por_filme.plot(kind=\"hist\")"
      ]
    },
    {
      "cell_type": "code",
      "execution_count": null,
      "metadata": {
        "colab": {
          "base_uri": "https://localhost:8080/",
          "height": 428
        },
        "id": "t9geHJ1jhADU",
        "outputId": "b9d2404c-c5e0-444c-d167-5cce48f0c386"
      },
      "outputs": [],
      "source": [
        "sns.boxplot(medias_por_filme)"
      ]
    },
    {
      "cell_type": "code",
      "execution_count": null,
      "metadata": {
        "colab": {
          "base_uri": "https://localhost:8080/"
        },
        "id": "CJ3IGZwiiHxi",
        "outputId": "17e699b0-021f-417b-886d-9ee2603963af"
      },
      "outputs": [],
      "source": [
        "medias_por_filme.describe()"
      ]
    },
    {
      "cell_type": "code",
      "execution_count": null,
      "metadata": {
        "colab": {
          "base_uri": "https://localhost:8080/",
          "height": 546
        },
        "id": "SlwFVsaKiT4K",
        "outputId": "b0871aa4-6b6c-49b1-8d90-ea483b182c12"
      },
      "outputs": [],
      "source": [
        "import matplotlib.pyplot as plt\n",
        "\n",
        "sns.displot(medias_por_filme, kde=True)\n",
        "plt.title(\"Histograma das médias dos filmes\")\n"
      ]
    },
    {
      "cell_type": "markdown",
      "metadata": {
        "id": "Y1dgEXLqcPow"
      },
      "source": [
        "# Outros filmes"
      ]
    },
    {
      "cell_type": "code",
      "execution_count": null,
      "metadata": {
        "colab": {
          "base_uri": "https://localhost:8080/",
          "height": 729
        },
        "id": "EgnLbME5iihg",
        "outputId": "ef4e666a-796b-4494-cd21-feeb060ae06d"
      },
      "outputs": [],
      "source": [
        "tmdb = pd.read_csv(\"https://raw.githubusercontent.com/alura-cursos/data-science-analise-exploratoria/main/Aula_0/tmdb_5000_movies.csv\")\n",
        "tmdb.head()"
      ]
    },
    {
      "cell_type": "code",
      "execution_count": null,
      "metadata": {
        "colab": {
          "base_uri": "https://localhost:8080/",
          "height": 529
        },
        "id": "493IQ6mxmW7D",
        "outputId": "cceae89d-5ae2-4ee7-8f7e-caa4d6567110"
      },
      "outputs": [],
      "source": [
        "sns.displot(tmdb[\"revenue\"])\n",
        "plt.title(\"Distribuição da receita dos filmes\")\n",
        "plt.show()"
      ]
    },
    {
      "cell_type": "code",
      "execution_count": null,
      "metadata": {
        "colab": {
          "base_uri": "https://localhost:8080/",
          "height": 529
        },
        "id": "kMUZoxsAmkQi",
        "outputId": "755b1a66-7ad6-43cc-dee4-36822439253b"
      },
      "outputs": [],
      "source": [
        "# prompt: gráfico de distribuicao do orçamento dos filmes (budget)\n",
        "\n",
        "import matplotlib.pyplot as plt\n",
        "sns.displot(tmdb[\"budget\"])\n",
        "plt.title(\"Distribuição do orçamento dos filmes\")\n",
        "plt.show()\n"
      ]
    },
    {
      "cell_type": "code",
      "execution_count": null,
      "metadata": {
        "colab": {
          "base_uri": "https://localhost:8080/"
        },
        "id": "BY_BJfghnT0h",
        "outputId": "c5b82288-6c4a-4375-e3c6-c2206f6f0f78"
      },
      "outputs": [],
      "source": [
        "tmdb.info()"
      ]
    },
    {
      "cell_type": "code",
      "execution_count": null,
      "metadata": {
        "colab": {
          "base_uri": "https://localhost:8080/",
          "height": 300
        },
        "id": "HZjiHWBsnlJw",
        "outputId": "5b92afca-dc5e-450c-d921-bd54cdcbdde8"
      },
      "outputs": [],
      "source": [
        "tmdb.describe()"
      ]
    },
    {
      "cell_type": "code",
      "execution_count": null,
      "metadata": {
        "colab": {
          "base_uri": "https://localhost:8080/",
          "height": 523
        },
        "id": "92eVXoW1ntIA",
        "outputId": "1c5ccec0-828f-4adf-8851-7387628bb78f"
      },
      "outputs": [],
      "source": [
        "com_faturamento = tmdb.query(\"revenue > 0\")\n",
        "sns.displot(com_faturamento[\"revenue\"])"
      ]
    },
    {
      "cell_type": "code",
      "execution_count": null,
      "metadata": {
        "colab": {
          "base_uri": "https://localhost:8080/"
        },
        "id": "vftWwriyn8Q4",
        "outputId": "b72ab691-9be2-4ce0-f734-8fe08402f842"
      },
      "outputs": [],
      "source": [
        "tmdb[\"original_language\"].unique()"
      ]
    },
    {
      "cell_type": "code",
      "execution_count": null,
      "metadata": {
        "colab": {
          "base_uri": "https://localhost:8080/"
        },
        "id": "4qy-Quv1pjWW",
        "outputId": "7dd9335e-9561-41f1-842a-68d9d4bcbb8b"
      },
      "outputs": [],
      "source": [
        "tmdb[\"original_language\"].value_counts()"
      ]
    },
    {
      "cell_type": "code",
      "execution_count": null,
      "metadata": {
        "id": "cqiwbz5qp6rV"
      },
      "outputs": [],
      "source": [
        "# lingua => categorica... sem ordem...\n",
        "\n",
        "# budget (orcamento) => quantitativa continua"
      ]
    },
    {
      "cell_type": "code",
      "execution_count": null,
      "metadata": {
        "id": "o3ufnPHFqwuE"
      },
      "outputs": [],
      "source": [
        "# nota do movielens => 0.5, 1, 1.5, ... ,5 => nao tem 2.5\n",
        "# quantidade de votos => 1,2,3,4,5... nao existe 2.5"
      ]
    },
    {
      "cell_type": "code",
      "execution_count": null,
      "metadata": {
        "colab": {
          "base_uri": "https://localhost:8080/"
        },
        "id": "ot1xS8gTt2Hb",
        "outputId": "25eaab9e-f707-4489-e2ac-09a437e9bb85"
      },
      "outputs": [],
      "source": [
        "tmdb[\"original_language\"].value_counts().index"
      ]
    },
    {
      "cell_type": "code",
      "execution_count": null,
      "metadata": {
        "colab": {
          "base_uri": "https://localhost:8080/"
        },
        "id": "GYb2Y7but54B",
        "outputId": "0008cc3a-92e2-400c-d158-edc5a42e3980"
      },
      "outputs": [],
      "source": [
        "tmdb[\"original_language\"].value_counts().values"
      ]
    },
    {
      "cell_type": "code",
      "execution_count": null,
      "metadata": {
        "colab": {
          "base_uri": "https://localhost:8080/",
          "height": 206
        },
        "id": "XckDAhlSuScH",
        "outputId": "169f12f5-200c-4754-d355-be7928c893f1"
      },
      "outputs": [],
      "source": [
        "contagem_de_lingua = tmdb[\"original_language\"].value_counts().to_frame().reset_index()\n",
        "contagem_de_lingua.columns = [\"original_language\", \"total\"]\n",
        "contagem_de_lingua.head()"
      ]
    },
    {
      "cell_type": "code",
      "execution_count": null,
      "metadata": {
        "colab": {
          "base_uri": "https://localhost:8080/",
          "height": 467
        },
        "id": "ZBpLrD1vuct3",
        "outputId": "9a7a4d4a-226d-4e7d-cfb2-bd5bd1c76c91"
      },
      "outputs": [],
      "source": [
        "sns.barplot(data = contagem_de_lingua, x=\"original_language\", y=\"total\")"
      ]
    },
    {
      "cell_type": "code",
      "execution_count": null,
      "metadata": {
        "colab": {
          "base_uri": "https://localhost:8080/",
          "height": 467
        },
        "id": "g0A_kAw6uzqw",
        "outputId": "454ed622-ff9f-4251-d7fe-39fa362d1137"
      },
      "outputs": [],
      "source": [
        "sns.countplot(data=tmdb, x=\"original_language\")"
      ]
    },
    {
      "cell_type": "code",
      "execution_count": null,
      "metadata": {
        "colab": {
          "base_uri": "https://localhost:8080/",
          "height": 840
        },
        "id": "d0MLRtk0wSQe",
        "outputId": "96083911-1767-4d73-df8a-1117b4f4ed5f"
      },
      "outputs": [],
      "source": [
        "# show de horror que é o gráfico de pizza\n",
        "\n",
        "contagem_de_lingua.plot(kind=\"pie\", y=\"total\", labels=contagem_de_lingua[\"original_language\"])"
      ]
    },
    {
      "cell_type": "markdown",
      "metadata": {
        "id": "6w6eQ_fPcqP5"
      },
      "source": [
        "# Melhorando nossa visualização"
      ]
    },
    {
      "cell_type": "code",
      "execution_count": null,
      "metadata": {
        "colab": {
          "base_uri": "https://localhost:8080/"
        },
        "id": "kv73njqyx8nt",
        "outputId": "05f17fb8-83c1-43e7-a45b-440384871175"
      },
      "outputs": [],
      "source": [
        "total_por_lingua = tmdb[\"original_language\"].value_counts()\n",
        "total_geral = total_por_lingua.sum()\n",
        "total_de_ingles = total_por_lingua.loc[\"en\"]\n",
        "total_do_resto = total_geral - total_de_ingles\n",
        "print(total_geral, total_de_ingles, total_do_resto)"
      ]
    },
    {
      "cell_type": "code",
      "execution_count": null,
      "metadata": {
        "colab": {
          "base_uri": "https://localhost:8080/",
          "height": 747
        },
        "id": "Iml6uTzYyvcs",
        "outputId": "91aaefe0-7337-44cd-a5ea-778c1317cf86"
      },
      "outputs": [],
      "source": [
        "dados = {\n",
        "  \"lingua\" : [\"ingles\", \"outros\"],\n",
        "  \"total\" : [total_de_ingles, total_do_resto]\n",
        "}\n",
        "dados = pd.DataFrame(dados)\n",
        "dados"
      ]
    },
    {
      "cell_type": "code",
      "execution_count": null,
      "metadata": {
        "colab": {
          "base_uri": "https://localhost:8080/",
          "height": 466
        },
        "id": "I4F-1Ixdzaqj",
        "outputId": "8a0f06ec-c853-426a-d96e-3e5f959b5c5a"
      },
      "outputs": [],
      "source": [
        "sns.barplot(data=dados, x=\"lingua\", y=\"total\")"
      ]
    },
    {
      "cell_type": "code",
      "execution_count": null,
      "metadata": {
        "colab": {
          "base_uri": "https://localhost:8080/",
          "height": 423
        },
        "id": "W4F8_0C4zojz",
        "outputId": "69676fa3-6898-48a5-f542-b327bf17297f"
      },
      "outputs": [],
      "source": [
        "dados.plot(kind=\"pie\", y=\"total\", labels=dados[\"lingua\"])"
      ]
    },
    {
      "cell_type": "code",
      "execution_count": null,
      "metadata": {
        "colab": {
          "base_uri": "https://localhost:8080/"
        },
        "id": "MwWlteGPzwwz",
        "outputId": "3050bd83-8acb-40c7-98c1-e6f4796e5e8b"
      },
      "outputs": [],
      "source": [
        "total_de_outros_filmes_por_lingua = tmdb.query(\"original_language != 'en'\")[\"original_language\"].value_counts()\n",
        "total_de_outros_filmes_por_lingua.head()"
      ]
    },
    {
      "cell_type": "code",
      "execution_count": null,
      "metadata": {
        "colab": {
          "base_uri": "https://localhost:8080/",
          "height": 467
        },
        "id": "BHwjWIam1nXJ",
        "outputId": "b3458d95-fd0d-485f-813b-43cde5def32b"
      },
      "outputs": [],
      "source": [
        "sns.countplot(data=tmdb.query(\"original_language != 'en'\"),\n",
        "              x=\"original_language\")"
      ]
    },
    {
      "cell_type": "code",
      "execution_count": null,
      "metadata": {
        "colab": {
          "base_uri": "https://localhost:8080/",
          "height": 467
        },
        "id": "BbstuOfM2F_h",
        "outputId": "bad9500f-34be-437c-dd84-da8e0cffd7a0"
      },
      "outputs": [],
      "source": [
        "sns.countplot(data=tmdb.query(\"original_language != 'en'\"),\n",
        "              order=total_de_outros_filmes_por_lingua.index,\n",
        "              hue=\"original_language\",\n",
        "              x=\"original_language\")"
      ]
    },
    {
      "cell_type": "code",
      "execution_count": null,
      "metadata": {
        "colab": {
          "base_uri": "https://localhost:8080/",
          "height": 76
        },
        "id": "zayT72ViLXJF",
        "outputId": "be43d0f6-0c55-4600-f06a-0fbcad173cdf"
      },
      "outputs": [],
      "source": [
        "sns.color_palette(\"mako\")"
      ]
    },
    {
      "cell_type": "code",
      "execution_count": null,
      "metadata": {
        "colab": {
          "base_uri": "https://localhost:8080/"
        },
        "id": "uPbe0b_8NWEk",
        "outputId": "6345bb65-d778-4538-c139-875f410c92ff"
      },
      "outputs": [],
      "source": [
        "tmdb.query(\"original_language != 'en'\")[\"original_language\"].value_counts(normalize=True)\n"
      ]
    },
    {
      "cell_type": "code",
      "execution_count": null,
      "metadata": {
        "colab": {
          "base_uri": "https://localhost:8080/",
          "height": 540
        },
        "id": "lPV7L2ccNA_s",
        "outputId": "0fea3287-8e12-412f-918f-0f67308e8eef"
      },
      "outputs": [],
      "source": [
        "plt.figure(figsize=(16, 8))\n",
        "sns.countplot(data=tmdb.query(\"original_language != 'en'\"),\n",
        "              order=total_de_outros_filmes_por_lingua.index,\n",
        "              palette=\"mako\",\n",
        "              hue=\"original_language\",\n",
        "              hue_order=total_de_outros_filmes_por_lingua.index,\n",
        "              stat=\"percent\",\n",
        "              x=\"original_language\")\n",
        "plt.title(\"Distribuição da língua original nos filmes exceto em inglês\")\n",
        "plt.show()"
      ]
    },
    {
      "cell_type": "markdown",
      "metadata": {
        "id": "AzCk42u2dBmZ"
      },
      "source": [
        "# Comparar duas distribuições visualmente ou através de medidas"
      ]
    },
    {
      "cell_type": "code",
      "execution_count": null,
      "metadata": {
        "colab": {
          "base_uri": "https://localhost:8080/",
          "height": 112
        },
        "id": "YqkAwT8TTqkR",
        "outputId": "46daacd1-be63-47a0-c470-d29fb40374a2"
      },
      "outputs": [],
      "source": [
        "filmes.head(2)"
      ]
    },
    {
      "cell_type": "code",
      "execution_count": null,
      "metadata": {
        "colab": {
          "base_uri": "https://localhost:8080/"
        },
        "id": "xwwQu8AIUA3x",
        "outputId": "163743f2-3e26-4835-9528-153e5f3cab86"
      },
      "outputs": [],
      "source": [
        "# prompt: extraia as notas dos dois filmes em variaveis distintas\n",
        "notas_do_toy_story = notas.query(\"filmeId==1\")[\"nota\"]\n",
        "notas_do_jumanji = notas.query(\"filmeId==2\")[\"nota\"]\n",
        "\n",
        "media_do_toy_story = notas_do_toy_story.mean()\n",
        "media_do_jumanji = notas_do_jumanji.mean()\n",
        "\n",
        "print(media_do_toy_story, media_do_jumanji)"
      ]
    },
    {
      "cell_type": "code",
      "execution_count": null,
      "metadata": {
        "colab": {
          "base_uri": "https://localhost:8080/"
        },
        "id": "RCDV8d76UUB4",
        "outputId": "97c0364c-e72d-4496-f9dd-37cd35be1464"
      },
      "outputs": [],
      "source": [
        "# prompt: mesmo mas com a mediana\n",
        "\n",
        "mediana_do_toy_story = notas_do_toy_story.median()\n",
        "mediana_do_jumanji = notas_do_jumanji.median()\n",
        "\n",
        "print(mediana_do_toy_story, mediana_do_jumanji)\n"
      ]
    },
    {
      "cell_type": "code",
      "execution_count": null,
      "metadata": {
        "colab": {
          "base_uri": "https://localhost:8080/"
        },
        "id": "ftwIWvLUUrlY",
        "outputId": "b945a487-4bd7-4a18-d7fa-92a130537ee5"
      },
      "outputs": [],
      "source": [
        "import numpy as np\n",
        "\n",
        "filme1 = [2.5] * 10 + [3.5] * 10\n",
        "filme2 = [5] * 10 + [1] * 10\n",
        "\n"
      ]
    },
    {
      "cell_type": "code",
      "execution_count": null,
      "metadata": {
        "colab": {
          "base_uri": "https://localhost:8080/"
        },
        "id": "2JeoZhcjUzWg",
        "outputId": "4b75b7db-6ae0-4280-bb1c-1c6152ed9922"
      },
      "outputs": [],
      "source": [
        "\n",
        "media_filme1 = np.mean(filme1)\n",
        "mediana_filme1 = np.median(filme1)\n",
        "\n",
        "media_filme2 = np.mean(filme2)\n",
        "mediana_filme2 = np.median(filme2)\n",
        "\n",
        "print(\"Filme 1:\")\n",
        "print(\"Média:\", media_filme1)\n",
        "print(\"Mediana:\", mediana_filme1)\n",
        "\n",
        "print(\"\\nFilme 2:\")\n",
        "print(\"Média:\", media_filme2)\n",
        "print(\"Mediana:\", mediana_filme2)\n"
      ]
    },
    {
      "cell_type": "code",
      "execution_count": null,
      "metadata": {
        "colab": {
          "base_uri": "https://localhost:8080/",
          "height": 482
        },
        "id": "FisKKiNbVQ7n",
        "outputId": "1d9f732f-798e-411d-a950-e7027a274285"
      },
      "outputs": [],
      "source": [
        "plt.hist(filme1)\n",
        "plt.hist(filme2)"
      ]
    },
    {
      "cell_type": "code",
      "execution_count": null,
      "metadata": {
        "colab": {
          "base_uri": "https://localhost:8080/",
          "height": 690
        },
        "id": "bR9mNQv0VgNQ",
        "outputId": "04f947ee-7180-49b0-88f7-2634794825e6"
      },
      "outputs": [],
      "source": [
        "plt.boxplot([filme1, filme2])"
      ]
    },
    {
      "cell_type": "code",
      "execution_count": null,
      "metadata": {
        "colab": {
          "base_uri": "https://localhost:8080/"
        },
        "id": "-WRhnbmpVpNw",
        "outputId": "8ea2246c-5e8e-44ab-9ce8-a02f01f6fa8f"
      },
      "outputs": [],
      "source": [
        "filme0 = [3.0] * 20 # espalha 0\n",
        "np.mean(filme0)"
      ]
    },
    {
      "cell_type": "code",
      "execution_count": null,
      "metadata": {
        "colab": {
          "base_uri": "https://localhost:8080/"
        },
        "id": "0BLqy0lYV6z_",
        "outputId": "cd01bf70-5f10-4667-8458-126a8c26dbd5"
      },
      "outputs": [],
      "source": [
        "np.std(filme0), np.std(filme1), np.std(filme2)"
      ]
    },
    {
      "cell_type": "code",
      "execution_count": null,
      "metadata": {
        "colab": {
          "base_uri": "https://localhost:8080/",
          "height": 690
        },
        "id": "gcBfInLpW-y_",
        "outputId": "b049f5e8-433d-43e7-f034-1bbc1afd2d36"
      },
      "outputs": [],
      "source": [
        "\n",
        "plt.boxplot([notas_do_toy_story, notas_do_jumanji])\n"
      ]
    },
    {
      "cell_type": "code",
      "execution_count": null,
      "metadata": {
        "colab": {
          "base_uri": "https://localhost:8080/",
          "height": 466
        },
        "id": "Ln9PV3FEYMBn",
        "outputId": "040ee65d-9f1e-4d52-d622-3bf68e5063e2"
      },
      "outputs": [],
      "source": [
        "sns.boxplot(data=notas.query(\"filmeId in [1,2,3,4,5]\"),\n",
        "            x=\"filmeId\",\n",
        "            y=\"nota\")"
      ]
    },
    {
      "cell_type": "code",
      "execution_count": null,
      "metadata": {
        "colab": {
          "base_uri": "https://localhost:8080/",
          "height": 573
        },
        "id": "R2zBaQDfYlmu",
        "outputId": "4ed8a7f0-3925-4e5e-a0d2-0dcf211d8770"
      },
      "outputs": [],
      "source": [
        "# prompt: mesmo grafico mas colorido\n",
        "\n",
        "sns.boxplot(data=notas.query(\"filmeId in [1,2,3,4,5]\"),\n",
        "            x=\"filmeId\",\n",
        "            y=\"nota\",\n",
        "            palette=\"Set2\")\n"
      ]
    },
    {
      "cell_type": "code",
      "execution_count": null,
      "metadata": {
        "colab": {
          "base_uri": "https://localhost:8080/",
          "height": 455
        },
        "id": "h8SJv5gtYx1-",
        "outputId": "93d7211d-4c8c-4659-cf2f-23956bed112a"
      },
      "outputs": [],
      "source": [
        "notas.groupby(\"filmeId\").count()"
      ]
    },
    {
      "cell_type": "code",
      "execution_count": null,
      "metadata": {
        "colab": {
          "base_uri": "https://localhost:8080/"
        },
        "id": "wk7Rf1K1ZEFe",
        "outputId": "94333d64-2db2-4abb-97cb-83af527677b6"
      },
      "outputs": [],
      "source": [
        "notas[\"filmeId\"].value_counts().tail()"
      ]
    },
    {
      "cell_type": "code",
      "execution_count": null,
      "metadata": {
        "colab": {
          "base_uri": "https://localhost:8080/",
          "height": 455
        },
        "id": "Yhonz2OqZMeO",
        "outputId": "b578b936-3368-461b-9313-069ad85b3a27"
      },
      "outputs": [],
      "source": [
        "notas.groupby(\"filmeId\").count().query(\"nota == 1\")"
      ]
    },
    {
      "cell_type": "code",
      "execution_count": null,
      "metadata": {
        "id": "lZfCkQiYZcIG"
      },
      "outputs": [],
      "source": []
    }
  ],
  "metadata": {
    "colab": {
      "provenance": []
    },
    "kernelspec": {
      "display_name": "Python 3",
      "name": "python3"
    },
    "language_info": {
      "codemirror_mode": {
        "name": "ipython",
        "version": 3
      },
      "file_extension": ".py",
      "mimetype": "text/x-python",
      "name": "python",
      "nbconvert_exporter": "python",
      "pygments_lexer": "ipython3",
      "version": "3.12.4"
    }
  },
  "nbformat": 4,
  "nbformat_minor": 0
}
